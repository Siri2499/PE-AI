{
 "cells": [
  {
   "cell_type": "markdown",
   "metadata": {},
   "source": [
    "# Assignment 3"
   ]
  },
  {
   "cell_type": "code",
   "execution_count": 10,
   "metadata": {},
   "outputs": [
    {
     "name": "stdout",
     "output_type": "stream",
     "text": [
      "Enter first side: 4\n",
      "Enter second side: 4\n",
      "Enter third side: 4\n",
      "The area of the triangle is 6.93\n"
     ]
    }
   ],
   "source": [
    "a = float(input('Enter first side: '))\n",
    "b = float(input('Enter second side: '))\n",
    "c = float(input('Enter third side: '))\n",
    "\n",
    "# calculate the semi-perimeter\n",
    "s = (a + b + c) / 2\n",
    "\n",
    "# calculate the area\n",
    "area = (s*(s-a)*(s-b)*(s-c)) ** 0.5\n",
    "print('The area of the triangle is %0.2f' %area)"
   ]
  },
  {
   "cell_type": "code",
   "execution_count": 18,
   "metadata": {},
   "outputs": [
    {
     "name": "stdout",
     "output_type": "stream",
     "text": [
      "enter a string:mam\n",
      "string is a palindrome\n"
     ]
    }
   ],
   "source": [
    "str=input('enter a string:')\n",
    "if(str==str[::-1]):\n",
    "    print(\"string is a palindrome\")\n",
    "else :\n",
    "    print(\"string is not a palindrome\")"
   ]
  },
  {
   "cell_type": "code",
   "execution_count": 30,
   "metadata": {},
   "outputs": [
    {
     "name": "stdout",
     "output_type": "stream",
     "text": [
      "Ente year:2020\n",
      "leap year\n"
     ]
    }
   ],
   "source": [
    "y=int(input(\"Ente year:\"))\n",
    "if(y%4==0 and y%100!=0 or y%400==0):\n",
    "    print('leap year')\n",
    "else:\n",
    "    print('not a leap year')\n",
    "   "
   ]
  },
  {
   "cell_type": "code",
   "execution_count": 6,
   "metadata": {},
   "outputs": [
    {
     "name": "stdout",
     "output_type": "stream",
     "text": [
      "Please Enter your Own String : This is a python program converts spaces into hyphens\n",
      "Original String :   This is a python program converts spaces into hyphens\n",
      "Modified String :   This_is_a_python_program_converts_spaces_into_hyphens\n"
     ]
    }
   ],
   "source": [
    "str1 = input(\"Please Enter your Own String : \")\n",
    "\n",
    "str2 = str1.replace(' ', '_')\n",
    "\n",
    "print(\"Original String :  \", str1)\n",
    "print(\"Modified String :  \", str2)"
   ]
  },
  {
   "cell_type": "code",
   "execution_count": 5,
   "metadata": {},
   "outputs": [
    {
     "name": "stdout",
     "output_type": "stream",
     "text": [
      "Input comma separated sequence of wordsred,orange,white,black,cyan,pink,green,saffron\n",
      "black,cyan,green,orange,pink,red,saffron,white\n"
     ]
    }
   ],
   "source": [
    "items = input(\"Input comma separated sequence of words\")\n",
    "words = [word for word in items.split(\",\")]\n",
    "print(\",\".join(sorted(list(set(words)))))"
   ]
  },
  {
   "cell_type": "code",
   "execution_count": 38,
   "metadata": {},
   "outputs": [
    {
     "name": "stdout",
     "output_type": "stream",
     "text": [
      "enter monthly income:500000\n",
      "total amount: 12500.0\n"
     ]
    }
   ],
   "source": [
    "salary=int(input(\"enter monthly income:\"))\n",
    "if(salary<=250000):\n",
    "  tax=0\n",
    "  print(\"total amount:\",tax)\n",
    "elif (250000<=salary<=500000):\n",
    "  tax=((salary-250000)*(5/100))\n",
    "  print(\"total amount:\",tax)\n",
    "elif (500001<=salary<=750000):\n",
    "  tax=((salary-500001)*(10/100))\n",
    "  print(\"total amount:\",tax)\n",
    "elif (750001<=salary<=1000000):\n",
    "  tax=((salary-750001)*(15/100))\n",
    "  print(\"total amount:\",tax)\n",
    "elif (1000001<=salary<=1250000):\n",
    "  tax=((salary-1000001)*(20/100))\n",
    "  print(\"total amount:\",tax)\n",
    "elif (1250001<=salary<=1500000):\n",
    "  tax=((salary-1250001)*(25/100))\n",
    "  print(\"total amount:\",tax)\n",
    "else:\n",
    "  tax=((salary-1500000)*(30/100))\n",
    "  print(\"total amount:\",tax)"
   ]
  },
  {
   "cell_type": "code",
   "execution_count": 26,
   "metadata": {},
   "outputs": [
    {
     "name": "stdout",
     "output_type": "stream",
     "text": [
      "121517"
     ]
    }
   ],
   "source": [
    "lst = [12, 15, 17] \n",
    "  \n",
    "# iterating each element \n",
    "for i in lst: \n",
    "    print(i, end=\"\") "
   ]
  },
  {
   "cell_type": "code",
   "execution_count": 28,
   "metadata": {},
   "outputs": [
    {
     "name": "stdout",
     "output_type": "stream",
     "text": [
      "Enter number of Days: 2\n",
      "Enter number of Hours: 33\n",
      "Enter number of Minutes: 44\n",
      "Enter number of Seconds: 33\n",
      "Total number of seconds:  294273\n"
     ]
    }
   ],
   "source": [
    "SECONDS_PER_MINUTE  = 60\n",
    "SECONDS_PER_HOUR    = 3600\n",
    "SECONDS_PER_DAY     = 86400\n",
    " \n",
    "#Read the inputs from user\n",
    "days    = int(input(\"Enter number of Days: \"))\n",
    "hours   = int(input(\"Enter number of Hours: \"))\n",
    "minutes = int(input(\"Enter number of Minutes: \"))\n",
    "seconds = int(input(\"Enter number of Seconds: \"))\n",
    " \n",
    "#Calculate the days, hours, minutes and seconds\n",
    "total_seconds = days * SECONDS_PER_DAY\n",
    "total_seconds = total_seconds + ( hours * SECONDS_PER_HOUR)\n",
    "total_seconds = total_seconds + ( minutes * SECONDS_PER_MINUTE)\n",
    "total_seconds = total_seconds + seconds\n",
    " \n",
    "#Display the result\n",
    "print(\"Total number of seconds: \",\"%d\"%(total_seconds))"
   ]
  },
  {
   "cell_type": "code",
   "execution_count": 30,
   "metadata": {},
   "outputs": [
    {
     "name": "stdout",
     "output_type": "stream",
     "text": [
      "Input first number: 55\n",
      "Input second number: 33\n",
      "Input third number: 22\n",
      "Numbers in sorted order:  22 33 55\n"
     ]
    }
   ],
   "source": [
    "x = int(input(\"Input first number: \"))\n",
    "y = int(input(\"Input second number: \"))\n",
    "z = int(input(\"Input third number: \"))\n",
    "\n",
    "a1 = min(x, y, z)\n",
    "a3 = max(x, y, z)\n",
    "a2 = (x + y + z) - a1 - a3\n",
    "print(\"Numbers in sorted order: \", a1, a2, a3)"
   ]
  },
  {
   "cell_type": "code",
   "execution_count": 32,
   "metadata": {},
   "outputs": [
    {
     "name": "stdout",
     "output_type": "stream",
     "text": [
      "Input a year: 2020\n",
      "Input a month [1-12]: 8\n",
      "Input a day [1-31]: 23\n",
      "The next date is [yyyy-mm-dd] 2020-8-24.\n"
     ]
    }
   ],
   "source": [
    "year = int(input(\"Input a year: \"))\n",
    "\n",
    "if (year % 400 == 0):\n",
    "    leap_year = True\n",
    "elif (year % 100 == 0):\n",
    "    leap_year = False\n",
    "elif (year % 4 == 0):\n",
    "    leap_year = True\n",
    "else:\n",
    "    leap_year = False\n",
    "\n",
    "month = int(input(\"Input a month [1-12]: \"))\n",
    "\n",
    "if month in (1, 3, 5, 7, 8, 10, 12):\n",
    "    month_length = 31\n",
    "elif month == 2:\n",
    "    if leap_year:\n",
    "        month_length = 29\n",
    "    else:\n",
    "        month_length = 28\n",
    "else:\n",
    "    month_length = 30\n",
    "\n",
    "\n",
    "day = int(input(\"Input a day [1-31]: \"))\n",
    "\n",
    "if day < month_length:\n",
    "    day += 1\n",
    "else:\n",
    "    day = 1\n",
    "    if month == 12:\n",
    "        month = 1\n",
    "        year += 1\n",
    "    else:\n",
    "        month += 1\n",
    "print(\"The next date is [yyyy-mm-dd] %d-%d-%d.\" % (year, month, day))"
   ]
  },
  {
   "cell_type": "code",
   "execution_count": 39,
   "metadata": {},
   "outputs": [
    {
     "name": "stdout",
     "output_type": "stream",
     "text": [
      "Result= 121111200\n"
     ]
    }
   ],
   "source": [
    "from functools import reduce\n",
    "list=[45,3,2,89,1,10,7,72]\n",
    "result=reduce ((lambda x,y:x*y),list)\n",
    "print(\"Result=\",result)"
   ]
  },
  {
   "cell_type": "code",
   "execution_count": 40,
   "metadata": {},
   "outputs": [
    {
     "name": "stdout",
     "output_type": "stream",
     "text": [
      "The original list:[5, 6, 8, 34, 89, 1]\n",
      "Out_list:[11, 14, 42, 123, 90]\n"
     ]
    }
   ],
   "source": [
    "Num_list=[5,6,8,34,89,1]\n",
    "print(\"The original list:\"+str(Num_list))\n",
    "res=[Num_list[i]+Num_list[i+1] for i in range (len(Num_list)-1)]\n",
    "print(\"Out_list:\"+str(res))"
   ]
  },
  {
   "cell_type": "code",
   "execution_count": 41,
   "metadata": {},
   "outputs": [
    {
     "name": "stdout",
     "output_type": "stream",
     "text": [
      "Out_list of tuple:\n",
      "[5, 30, 240, 720, 6480, 6480]\n"
     ]
    }
   ],
   "source": [
    "input=[(1,5),(5,6),(30,8),(240,3),(720,9),(6480,1)]\n",
    "output=[]\n",
    "for elem in input:\n",
    "  temp=elem[0]*elem[1]\n",
    "  output.append(temp)\n",
    "print(\"Out_list of tuple:\")\n",
    "print(output)"
   ]
  },
  {
   "cell_type": "code",
   "execution_count": 33,
   "metadata": {},
   "outputs": [
    {
     "name": "stdout",
     "output_type": "stream",
     "text": [
      "Enter the number: 23456789\n",
      "[2, 3, 4, 5, 6, 7, 8, 9]\n"
     ]
    }
   ],
   "source": [
    "#Python code that takes a number & returns a list of its digits\n",
    "\n",
    "input_number = input(\"Enter the number: \")\n",
    "\n",
    "#The easiest way is to convert any integer number to string\n",
    "#String can be treated as a list\n",
    "#Traverse the list and convert every element to integer\n",
    "# and store in another list\n",
    "\n",
    "c = str(input_number)\n",
    "\n",
    "#Take an empty list\n",
    "int_list = []\n",
    "for i in range(len(c)):\n",
    "    int_list.append(int(c[i]))\n",
    "\n",
    "\n",
    "print(int_list)"
   ]
  },
  {
   "cell_type": "code",
   "execution_count": 34,
   "metadata": {},
   "outputs": [
    {
     "name": "stdout",
     "output_type": "stream",
     "text": [
      "BBABB\n"
     ]
    }
   ],
   "source": [
    "class Solution(object):\n",
    "   def longestPalindrome(self, s):\n",
    "      dp = [[False for i in range(len(s))] for i in range(len(s))]\n",
    "      for i in range(len(s)):\n",
    "         dp[i][i] = True\n",
    "      max_length = 1\n",
    "      start = 0\n",
    "      for l in range(2,len(s)+1):\n",
    "         for i in range(len(s)-l+1):\n",
    "            end = i+l\n",
    "            if l==2:\n",
    "               if s[i] == s[end-1]:\n",
    "                  dp[i][end-1]=True\n",
    "                  max_length = l\n",
    "                  start = i\n",
    "            else:\n",
    "               if s[i] == s[end-1] and dp[i+1][end-2]:\n",
    "                  dp[i][end-1]=True\n",
    "                  max_length = l\n",
    "                  start = i\n",
    "      return s[start:start+max_length]\n",
    "ob1 = Solution()\n",
    "print(ob1.longestPalindrome(\"ABBABBC\"))"
   ]
  },
  {
   "cell_type": "code",
   "execution_count": null,
   "metadata": {},
   "outputs": [],
   "source": [
    "a=input(\"enter the string1:\")\n",
    "b=input(\"enter the string2:\")\n",
    "if b in a :\n",
    "  print(\"output is: 1 \")\n",
    "else:\n",
    "  print(\"output is: 0\")"
   ]
  },
  {
   "cell_type": "code",
   "execution_count": null,
   "metadata": {},
   "outputs": [],
   "source": [
    "def gcd(a,b):\n",
    "\n",
    "    if b==0: \n",
    "\n",
    "        return a \n",
    "\n",
    "    return gcd(b,a%b) \n",
    "\n",
    "def countsteps(a,b,c): \n",
    "\n",
    "    v1=b\n",
    "\n",
    "    v2=0\n",
    "\n",
    "    count=1\n",
    "\n",
    "    while ((v1 is not c) and (v2 is not c)): \n",
    "\n",
    "        temp=min(v1,a-v2) \n",
    "\n",
    "        v2=v2+temp \n",
    "\n",
    "        v1=v1-temp \n",
    "\n",
    "        count=count+1\n",
    "\n",
    "        if ((v2==c)or(v1==c)): \n",
    "\n",
    "            break\n",
    "\n",
    "        if v1==0: \n",
    "\n",
    "            v1=b \n",
    "\n",
    "            count=count+1\n",
    "\n",
    "        if v2==a: \n",
    "\n",
    "            v2=0\n",
    "\n",
    "        if a>b: \n",
    "\n",
    "        temp=a \n",
    "\n",
    "        a=b \n",
    "\n",
    "        b=temp \n",
    "\n",
    "    if c>b: \n",
    "\n",
    "        return -1\n",
    "\n",
    "    if (c%(gcd(b,a)) is not 0): \n",
    "\n",
    "        return -1\n",
    "\n",
    "    return(min(countsteps(b,a,c),countsteps(a,b,c)))\n",
    "\n",
    "t=int(input(\"Enter no of testcases : \"))\n",
    "\n",
    "for i in range(t):\n",
    "\n",
    "  a=int(input(\"Enter capacity of vessel a : \"))\n",
    "\n",
    "  b=int(input(\"Enter capacity of vessel b : \"))\n",
    "\n",
    "  c=int(input(\"Enter capacity to be obtained :\"))\n",
    "\n",
    "  print(\"Minimum number of steps required is : \",ispossible(a,b,c))    count=count+1\n",
    "\n",
    "    return count \n",
    "\n",
    "def ispossible(a,b,c): \n",
    "\n",
    "    if a>b: \n",
    "\n",
    "        temp=a \n",
    "\n",
    "        a=b \n",
    "\n",
    "        b=temp \n",
    "\n",
    "    if c>b: \n",
    "\n",
    "        return -1\n",
    "\n",
    "    if (c%(gcd(b,a)) is not 0): \n",
    "\n",
    "        return -1\n",
    "\n",
    "    return(min(countsteps(b,a,c),countsteps(a,b,c)))\n",
    "\n",
    "t=int(input(\"Enter no of testcases : \"))\n",
    "\n",
    "for i in range(t):\n",
    "\n",
    "  a=int(input(\"Enter capacity of vessel a : \"))\n",
    "\n",
    "  b=int(input(\"Enter capacity of vessel b : \"))\n",
    "\n",
    "  c=int(input(\"Enter capacity to be obtained :\"))\n",
    "\n",
    "  print(\"Minimum number of steps required is : \",ispossible(a,b,c))"
   ]
  }
 ],
 "metadata": {
  "kernelspec": {
   "display_name": "Python 3",
   "language": "python",
   "name": "python3"
  },
  "language_info": {
   "codemirror_mode": {
    "name": "ipython",
    "version": 3
   },
   "file_extension": ".py",
   "mimetype": "text/x-python",
   "name": "python",
   "nbconvert_exporter": "python",
   "pygments_lexer": "ipython3",
   "version": "3.7.6"
  }
 },
 "nbformat": 4,
 "nbformat_minor": 4
}
