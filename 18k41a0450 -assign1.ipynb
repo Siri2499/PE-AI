{
 "cells": [
  {
   "cell_type": "markdown",
   "metadata": {},
   "source": [
    "# python basics"
   ]
  },
  {
   "cell_type": "markdown",
   "metadata": {},
   "source": [
    "# assignment 1"
   ]
  },
  {
   "cell_type": "code",
   "execution_count": 1,
   "metadata": {},
   "outputs": [
    {
     "name": "stdout",
     "output_type": "stream",
     "text": [
      "enter the year for zodiacsign2000\n",
      "Dragon\n"
     ]
    }
   ],
   "source": [
    "year=int(input(\"enter the year for zodiacsign\"))\n",
    "if year%12==0:\n",
    "    print(\"Monkey\")\n",
    "elif year%12==1:\n",
    "    print(\"Rooster\")\n",
    "elif year%12==2:\n",
    "    print(\"Dog\")\n",
    "elif year%12==3:\n",
    "    print(\"pig\")\n",
    "elif year%12==4:\n",
    "    print(\"Rat\")\n",
    "elif year%12==5:\n",
    "    print(\"ox\")\n",
    "elif year%12==6:\n",
    "    print(\"Tiger\")\n",
    "elif year%12==7:\n",
    "    print(\"Rabbit\")\n",
    "elif year%12==8:\n",
    "    print(\"Dragon\")\n",
    "elif year%12==9:\n",
    "    print(\"Snake\")\n",
    "elif year%12==10:\n",
    "    print(\"Horse\")\n",
    "else:\n",
    "    print(\"Sheep\")"
   ]
  },
  {
   "cell_type": "code",
   "execution_count": 3,
   "metadata": {},
   "outputs": [
    {
     "name": "stdout",
     "output_type": "stream",
     "text": [
      "enter distance:45\n",
      "enter weight:25\n",
      "charge of cost: 225\n"
     ]
    }
   ],
   "source": [
    "'distance covered with cost'\n",
    "dist=int(input('enter distance:'))\n",
    "wt=int(input('enter weight:'))\n",
    "if dist>=500:\n",
    "    if wt>=100:\n",
    "        cost=5*dist\n",
    "    elif wt>=10 and wt<100:\n",
    "            cost=6*dist\n",
    "    else:\n",
    "        cost=7*dist\n",
    "else:\n",
    "    if wt>=100:\n",
    "        cost=8*dist\n",
    "    else:\n",
    "        cost=5*dist\n",
    "        print('charge of cost:',cost)    "
   ]
  },
  {
   "cell_type": "code",
   "execution_count": 14,
   "metadata": {},
   "outputs": [
    {
     "name": "stdout",
     "output_type": "stream",
     "text": [
      "type of seat:850\n",
      "do you pay through cash or card\n",
      "payment mode:cash\n",
      "cost of ticket: 765.0\n"
     ]
    }
   ],
   "source": [
    "' printing the cost of ticket'\n",
    "s=625\n",
    "c=750\n",
    "up=850\n",
    "b=100\n",
    "x=int(input('type of seat:'))\n",
    "print('do you pay through cash or card')\n",
    "y=str(input('payment mode:'))\n",
    "while y=='card':\n",
    "    z=x*5/100\n",
    "    cost=x-z\n",
    "    print('cost of ticket:',cost)\n",
    "else:    \n",
    "    if y=='cash':\n",
    "        w=x*10/100\n",
    "        cost=x-w\n",
    "        print('cost of ticket:',cost)"
   ]
  },
  {
   "cell_type": "code",
   "execution_count": 23,
   "metadata": {},
   "outputs": [
    {
     "name": "stdout",
     "output_type": "stream",
     "text": [
      "initial temperature:45\n",
      "final temperature:78\n",
      "water in kg:15\n",
      "2071080\n"
     ]
    }
   ],
   "source": [
    "'required energy '\n",
    "I=int(input('initial temperature:'))\n",
    "f=int(input('final temperature:'))\n",
    "m=int(input('water in kg:'))\n",
    "q=m*(f-I)*4184\n",
    "print(q)"
   ]
  },
  {
   "cell_type": "code",
   "execution_count": 9,
   "metadata": {},
   "outputs": [
    {
     "name": "stdout",
     "output_type": "stream",
     "text": [
      "enter monthmay\n"
     ]
    },
    {
     "ename": "NameError",
     "evalue": "name 'december' is not defined",
     "output_type": "error",
     "traceback": [
      "\u001b[1;31m---------------------------------------------------------------------------\u001b[0m",
      "\u001b[1;31mNameError\u001b[0m                                 Traceback (most recent call last)",
      "\u001b[1;32m<ipython-input-9-d1bc33729f14>\u001b[0m in \u001b[0;36m<module>\u001b[1;34m\u001b[0m\n\u001b[0;32m      1\u001b[0m \u001b[0muser\u001b[0m\u001b[1;33m=\u001b[0m\u001b[0mstr\u001b[0m\u001b[1;33m(\u001b[0m\u001b[0minput\u001b[0m\u001b[1;33m(\u001b[0m\u001b[1;34m'enter month'\u001b[0m\u001b[1;33m)\u001b[0m\u001b[1;33m)\u001b[0m\u001b[1;33m\u001b[0m\u001b[1;33m\u001b[0m\u001b[0m\n\u001b[1;32m----> 2\u001b[1;33m \u001b[1;32mif\u001b[0m \u001b[0muser\u001b[0m\u001b[1;33m==\u001b[0m\u001b[0mdecember\u001b[0m \u001b[1;32mor\u001b[0m \u001b[0mjanuary\u001b[0m \u001b[1;32mor\u001b[0m \u001b[0mfebraury\u001b[0m\u001b[1;33m:\u001b[0m\u001b[1;33m\u001b[0m\u001b[1;33m\u001b[0m\u001b[0m\n\u001b[0m\u001b[0;32m      3\u001b[0m     \u001b[0mprint\u001b[0m\u001b[1;33m(\u001b[0m\u001b[1;34m'winter'\u001b[0m\u001b[1;33m)\u001b[0m\u001b[1;33m\u001b[0m\u001b[1;33m\u001b[0m\u001b[0m\n\u001b[0;32m      4\u001b[0m \u001b[1;32melif\u001b[0m \u001b[0muser\u001b[0m\u001b[1;33m==\u001b[0m\u001b[0mmarch\u001b[0m \u001b[1;32mor\u001b[0m \u001b[0mapril\u001b[0m \u001b[1;32mor\u001b[0m \u001b[0mmay\u001b[0m\u001b[1;33m:\u001b[0m\u001b[1;33m\u001b[0m\u001b[1;33m\u001b[0m\u001b[0m\n\u001b[0;32m      5\u001b[0m     \u001b[0mprint\u001b[0m\u001b[1;33m(\u001b[0m\u001b[1;34m'spring'\u001b[0m\u001b[1;33m)\u001b[0m\u001b[1;33m\u001b[0m\u001b[1;33m\u001b[0m\u001b[0m\n",
      "\u001b[1;31mNameError\u001b[0m: name 'december' is not defined"
     ]
    }
   ],
   "source": [
    "\n",
    "user=str(input('enter month'))\n",
    "if user==december or january or febraury:\n",
    "    print('winter')\n",
    "elif user==march or april or may:\n",
    "    print('spring')\n",
    "elif user==june or july or aug:\n",
    "    print('summer')\n",
    "else:\n",
    "    print('autum')"
   ]
  },
  {
   "cell_type": "code",
   "execution_count": 13,
   "metadata": {},
   "outputs": [
    {
     "name": "stdout",
     "output_type": "stream",
     "text": [
      "enter month number:10\n",
      "AUTUMN\n"
     ]
    }
   ],
   "source": [
    "M=int(input('enter month number:'))\n",
    "def findseason (M) : \n",
    "      \n",
    "    # Taken all the possible \n",
    "    # month numbers in the list. \n",
    "    list1 = [[12 , 1 , 2], [3 , 4 , 5],  \n",
    "             [6 , 7 , 8], [9 , 10 , 11]] \n",
    "               \n",
    "    # Matching the month number \n",
    "    # with the above list entries  \n",
    "    if M in list1[0] : \n",
    "        print ( \"WINTER\" ) \n",
    "    elif M in list1[1] : \n",
    "        print ( \"SPRING\" ) \n",
    "    elif M in list1[2] : \n",
    "        print ( \"SUMMER\" ) \n",
    "    elif M in list1[3] : \n",
    "        print ( \"AUTUMN\" ) \n",
    "    else : \n",
    "        print ( \"Invalid Month Number\" ) \n",
    "   \n",
    "#M = 5\n",
    "findseason ( M ) \n",
    "  \n",
    "#M = 10\n",
    "#print(\"For Month number:\", M); \n",
    "#findseason ( M ) "
   ]
  },
  {
   "cell_type": "code",
   "execution_count": 49,
   "metadata": {},
   "outputs": [
    {
     "name": "stdout",
     "output_type": "stream",
     "text": [
      "enter your weight in pounds:60\n",
      "enter your height in inches:49\n",
      "over weight\n"
     ]
    }
   ],
   "source": [
    "'bmi'\n",
    "u_wt=int(input('enter your weight in pounds:'))\n",
    "u_ht=int(input('enter your height in inches:'))\n",
    "wt_kg=0.4535*u_wt\n",
    "ht_mt=0.0254*u_ht\n",
    "BMI=wt_kg/(ht_mt)*(ht_mt)\n",
    "BMI\n",
    "if BMI<18.5:\n",
    "    print('under weight')\n",
    "elif 18.5<=BMI<25.0:\n",
    "    print('Normal')\n",
    "elif 25.0<=BMI<30.0:\n",
    "    print('over weight')\n",
    "elif 30.0<=BMI:\n",
    "    print('obesity')"
   ]
  },
  {
   "cell_type": "code",
   "execution_count": 3,
   "metadata": {},
   "outputs": [
    {
     "name": "stdout",
     "output_type": "stream",
     "text": [
      "enter the number between 100 and 1000:456\n",
      "15\n"
     ]
    }
   ],
   "source": [
    "'sum of the digit'\n",
    "num=int(input('enter the number between 100 and 1000:'))\n",
    "rem=0\n",
    "sumdigit=0\n",
    "if num>100 and num<=1000:\n",
    "    while num>0:\n",
    "        rem=num%10\n",
    "        sumdigit=sumdigit+rem\n",
    "        num=num//10\n",
    "    print(sumdigit)"
   ]
  },
  {
   "cell_type": "code",
   "execution_count": 57,
   "metadata": {},
   "outputs": [
    {
     "name": "stdout",
     "output_type": "stream",
     "text": [
      "enter the max value:1000\n",
      "enter the min value1\n",
      "palindrome numbers bbetween %d and %d are: (1, 1000)\n",
      "1 2 3 4 5 6 7 8 9 11 22 33 44 55 66 77 88 99 101 111 121 131 141 151 161 171 181 191 202 212 222 232 242 252 262 272 282 292 303 313 323 333 343 353 363 373 383 393 404 414 424 434 444 454 464 474 484 494 505 515 525 535 545 555 565 575 585 595 606 616 626 636 646 656 666 676 686 696 707 717 727 737 747 757 767 777 787 797 808 818 828 838 848 858 868 878 888 898 909 919 929 939 949 959 969 979 989 999 "
     ]
    }
   ],
   "source": [
    "'palindrome between 1 to 1000'\n",
    "max=int(input('enter the max value:'))\n",
    "min=int(input('enter the min value'))\n",
    "print('palindrome numbers bbetween %d and %d are:',(min,max))\n",
    "for num in range (min,max+1):\n",
    "    temp=num\n",
    "    rev=0\n",
    "    while temp>0:\n",
    "        rem=temp%10\n",
    "        rev=(rev*10)+rem\n",
    "        temp=temp//10\n",
    "    if num==rev:\n",
    "        print('%d'%num,end=' ')"
   ]
  },
  {
   "cell_type": "code",
   "execution_count": 1,
   "metadata": {},
   "outputs": [
    {
     "name": "stdout",
     "output_type": "stream",
     "text": [
      "enter lower range:1\n",
      "enter upper range1000\n",
      "1\n",
      "153\n",
      "370\n",
      "371\n",
      "407\n"
     ]
    }
   ],
   "source": [
    "'Armstrong numbers between 1 to 1000'\n",
    "min=int(input('enter lower range:'))\n",
    "max=int(input('enter upper range'))\n",
    "for num in range(min,max+1):\n",
    "    sum=0\n",
    "    temp=num\n",
    "    while temp>0:\n",
    "        digit=temp%10\n",
    "        sum+=digit**3\n",
    "        temp//=10\n",
    "    if num==sum:\n",
    "        print(num)"
   ]
  },
  {
   "cell_type": "code",
   "execution_count": 16,
   "metadata": {},
   "outputs": [
    {
     "name": "stdout",
     "output_type": "stream",
     "text": [
      "FizzBuzz\n",
      "1\n",
      "2\n",
      "Fizz\n",
      "4\n",
      "Buzz\n",
      "Fizz\n",
      "7\n",
      "8\n",
      "Fizz\n",
      "Buzz\n",
      "11\n",
      "Fizz\n",
      "13\n",
      "14\n",
      "FizzBuzz\n",
      "16\n",
      "17\n",
      "Fizz\n",
      "19\n",
      "Buzz\n",
      "Fizz\n",
      "22\n",
      "23\n",
      "Fizz\n",
      "Buzz\n",
      "26\n",
      "Fizz\n",
      "28\n",
      "29\n",
      "FizzBuzz\n",
      "31\n",
      "32\n",
      "Fizz\n",
      "34\n",
      "Buzz\n",
      "Fizz\n",
      "37\n",
      "38\n",
      "Fizz\n",
      "Buzz\n",
      "41\n",
      "Fizz\n",
      "43\n",
      "44\n",
      "FizzBuzz\n",
      "46\n",
      "47\n",
      "Fizz\n",
      "49\n",
      "Buzz\n",
      "Fizz\n",
      "52\n",
      "53\n",
      "Fizz\n",
      "Buzz\n",
      "56\n",
      "Fizz\n",
      "58\n",
      "59\n",
      "FizzBuzz\n",
      "61\n",
      "62\n",
      "Fizz\n",
      "64\n",
      "Buzz\n",
      "Fizz\n",
      "67\n",
      "68\n",
      "Fizz\n",
      "Buzz\n",
      "71\n",
      "Fizz\n",
      "73\n",
      "74\n",
      "FizzBuzz\n",
      "76\n",
      "77\n",
      "Fizz\n",
      "79\n",
      "Buzz\n",
      "Fizz\n",
      "82\n",
      "83\n",
      "Fizz\n",
      "Buzz\n",
      "86\n",
      "Fizz\n",
      "88\n",
      "89\n",
      "FizzBuzz\n",
      "91\n",
      "92\n",
      "Fizz\n",
      "94\n",
      "Buzz\n",
      "Fizz\n",
      "97\n",
      "98\n",
      "Fizz\n"
     ]
    }
   ],
   "source": [
    "for fizzbuzz in range(100):  \n",
    "  \n",
    "    # number divisible by 3, print 'Fizz'  \n",
    "    # in place of the number \n",
    "    if fizzbuzz % 15 == 0:  \n",
    "        print(\"FizzBuzz\")                                          \n",
    "        continue\n",
    "  \n",
    "    # number divisible by 5, print 'Buzz' \n",
    "    # in place of the number \n",
    "    elif fizzbuzz % 3 == 0:      \n",
    "        print(\"Fizz\")                                          \n",
    "        continue\n",
    "  \n",
    "    # number divisible by 15 (divisible  \n",
    "    # by both 3 & 5), print 'FizzBuzz' in \n",
    "    # place of the number \n",
    "    elif fizzbuzz % 5 == 0:          \n",
    "        print(\"Buzz\")                                      \n",
    "        continue\n",
    "  \n",
    "    # print numbers \n",
    "    print(fizzbuzz) "
   ]
  },
  {
   "cell_type": "code",
   "execution_count": 8,
   "metadata": {},
   "outputs": [
    {
     "name": "stdout",
     "output_type": "stream",
     "text": [
      "enter height of well:200\n",
      "enter meters he climbs in each step:50\n",
      "enter meters slips down each step:1\n",
      "5\n"
     ]
    }
   ],
   "source": [
    "h=int(input('enter height of well:'))\n",
    "u=int(input('enter meters he climbs in each step:'))\n",
    "d=int(input('enter meters slips down each step:'))\n",
    "if d>=u and h>u:\n",
    "        print(\"-1\")\n",
    "elif h<=u:\n",
    "    print(\"1\")\n",
    "else:\n",
    "    ans=(h-u)//(u-d)\n",
    "    ans=ans+2\n",
    "print(ans)"
   ]
  },
  {
   "cell_type": "code",
   "execution_count": null,
   "metadata": {},
   "outputs": [],
   "source": []
  }
 ],
 "metadata": {
  "kernelspec": {
   "display_name": "Python 3",
   "language": "python",
   "name": "python3"
  },
  "language_info": {
   "codemirror_mode": {
    "name": "ipython",
    "version": 3
   },
   "file_extension": ".py",
   "mimetype": "text/x-python",
   "name": "python",
   "nbconvert_exporter": "python",
   "pygments_lexer": "ipython3",
   "version": "3.7.6"
  }
 },
 "nbformat": 4,
 "nbformat_minor": 4
}
